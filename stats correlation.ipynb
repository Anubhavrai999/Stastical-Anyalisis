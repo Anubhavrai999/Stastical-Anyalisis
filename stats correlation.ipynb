{
 "cells": [
  {
   "cell_type": "code",
   "execution_count": 5,
   "id": "872362c5-2158-4e76-a0df-8775b4db8a21",
   "metadata": {},
   "outputs": [],
   "source": [
    "import pandas as pd\n",
    "import numpy as np"
   ]
  },
  {
   "cell_type": "code",
   "execution_count": 15,
   "id": "5e5786d2-35d4-493a-be6a-7ab96d3eec93",
   "metadata": {},
   "outputs": [],
   "source": [
    "data={\n",
    "   \"height\":[150,160,165,170,175,180,185],\n",
    "   \"weight\":[50,55,60,65,70,75,80]\n",
    "}\n",
    "df=pd.DataFrame(data)\n",
    "#we can create dataframe from dictonary"
   ]
  },
  {
   "cell_type": "code",
   "execution_count": 17,
   "id": "e0ba66eb-76b5-4dac-ac30-0a675ef173b0",
   "metadata": {},
   "outputs": [
    {
     "data": {
      "text/html": [
       "<div>\n",
       "<style scoped>\n",
       "    .dataframe tbody tr th:only-of-type {\n",
       "        vertical-align: middle;\n",
       "    }\n",
       "\n",
       "    .dataframe tbody tr th {\n",
       "        vertical-align: top;\n",
       "    }\n",
       "\n",
       "    .dataframe thead th {\n",
       "        text-align: right;\n",
       "    }\n",
       "</style>\n",
       "<table border=\"1\" class=\"dataframe\">\n",
       "  <thead>\n",
       "    <tr style=\"text-align: right;\">\n",
       "      <th></th>\n",
       "      <th>height</th>\n",
       "      <th>weight</th>\n",
       "    </tr>\n",
       "  </thead>\n",
       "  <tbody>\n",
       "    <tr>\n",
       "      <th>0</th>\n",
       "      <td>150</td>\n",
       "      <td>50</td>\n",
       "    </tr>\n",
       "    <tr>\n",
       "      <th>1</th>\n",
       "      <td>160</td>\n",
       "      <td>55</td>\n",
       "    </tr>\n",
       "    <tr>\n",
       "      <th>2</th>\n",
       "      <td>165</td>\n",
       "      <td>60</td>\n",
       "    </tr>\n",
       "    <tr>\n",
       "      <th>3</th>\n",
       "      <td>170</td>\n",
       "      <td>65</td>\n",
       "    </tr>\n",
       "    <tr>\n",
       "      <th>4</th>\n",
       "      <td>175</td>\n",
       "      <td>70</td>\n",
       "    </tr>\n",
       "    <tr>\n",
       "      <th>5</th>\n",
       "      <td>180</td>\n",
       "      <td>75</td>\n",
       "    </tr>\n",
       "    <tr>\n",
       "      <th>6</th>\n",
       "      <td>185</td>\n",
       "      <td>80</td>\n",
       "    </tr>\n",
       "  </tbody>\n",
       "</table>\n",
       "</div>"
      ],
      "text/plain": [
       "   height  weight\n",
       "0     150      50\n",
       "1     160      55\n",
       "2     165      60\n",
       "3     170      65\n",
       "4     175      70\n",
       "5     180      75\n",
       "6     185      80"
      ]
     },
     "execution_count": 17,
     "metadata": {},
     "output_type": "execute_result"
    }
   ],
   "source": [
    "df.head(7)"
   ]
  },
  {
   "cell_type": "code",
   "execution_count": 21,
   "id": "f3e76cec-3ce5-4e68-a5c2-533f4c1bd933",
   "metadata": {},
   "outputs": [
    {
     "name": "stdout",
     "output_type": "stream",
     "text": [
      "0.9922858194799439\n"
     ]
    }
   ],
   "source": [
    "correlation=df[\"height\"].corr(df[\"weight\"])\n",
    "print(correlation)\n",
    "#in correlation it ny default take kalespearson method                            "
   ]
  },
  {
   "cell_type": "code",
   "execution_count": 25,
   "id": "8838cf56-522a-40ec-adb2-9759e276b7a1",
   "metadata": {},
   "outputs": [
    {
     "name": "stdout",
     "output_type": "stream",
     "text": [
      "1.0\n"
     ]
    }
   ],
   "source": [
    "correlation=df[\"height\"].corr(df[\"weight\"],method=\"spearman\")\n",
    "print(correlation)"
   ]
  },
  {
   "cell_type": "code",
   "execution_count": 31,
   "id": "68efc7e8-cc61-4920-9425-219c0ea2201f",
   "metadata": {},
   "outputs": [
    {
     "data": {
      "text/html": [
       "<div>\n",
       "<style scoped>\n",
       "    .dataframe tbody tr th:only-of-type {\n",
       "        vertical-align: middle;\n",
       "    }\n",
       "\n",
       "    .dataframe tbody tr th {\n",
       "        vertical-align: top;\n",
       "    }\n",
       "\n",
       "    .dataframe thead th {\n",
       "        text-align: right;\n",
       "    }\n",
       "</style>\n",
       "<table border=\"1\" class=\"dataframe\">\n",
       "  <thead>\n",
       "    <tr style=\"text-align: right;\">\n",
       "      <th></th>\n",
       "      <th>height</th>\n",
       "      <th>weight</th>\n",
       "      <th>rank1</th>\n",
       "      <th>rank2</th>\n",
       "    </tr>\n",
       "  </thead>\n",
       "  <tbody>\n",
       "    <tr>\n",
       "      <th>0</th>\n",
       "      <td>150</td>\n",
       "      <td>50</td>\n",
       "      <td>1.0</td>\n",
       "      <td>1.0</td>\n",
       "    </tr>\n",
       "    <tr>\n",
       "      <th>1</th>\n",
       "      <td>160</td>\n",
       "      <td>55</td>\n",
       "      <td>2.0</td>\n",
       "      <td>2.0</td>\n",
       "    </tr>\n",
       "    <tr>\n",
       "      <th>2</th>\n",
       "      <td>165</td>\n",
       "      <td>60</td>\n",
       "      <td>3.0</td>\n",
       "      <td>3.0</td>\n",
       "    </tr>\n",
       "    <tr>\n",
       "      <th>3</th>\n",
       "      <td>170</td>\n",
       "      <td>65</td>\n",
       "      <td>4.0</td>\n",
       "      <td>4.0</td>\n",
       "    </tr>\n",
       "    <tr>\n",
       "      <th>4</th>\n",
       "      <td>175</td>\n",
       "      <td>70</td>\n",
       "      <td>5.0</td>\n",
       "      <td>5.0</td>\n",
       "    </tr>\n",
       "  </tbody>\n",
       "</table>\n",
       "</div>"
      ],
      "text/plain": [
       "   height  weight  rank1  rank2\n",
       "0     150      50    1.0    1.0\n",
       "1     160      55    2.0    2.0\n",
       "2     165      60    3.0    3.0\n",
       "3     170      65    4.0    4.0\n",
       "4     175      70    5.0    5.0"
      ]
     },
     "execution_count": 31,
     "metadata": {},
     "output_type": "execute_result"
    }
   ],
   "source": [
    "df[\"rank1\"]=df[\"height\"].rank()\n",
    "df[\"rank2\"]=df[\"weight\"].rank()\n",
    "df.head()"
   ]
  },
  {
   "cell_type": "code",
   "execution_count": 49,
   "id": "d0d9068e-0ceb-4d68-a147-f3ca3f7964e2",
   "metadata": {},
   "outputs": [],
   "source": [
    "df[\"D\"]=df[\"rank1\"]-df[\"rank2\"]"
   ]
  },
  {
   "cell_type": "code",
   "execution_count": 51,
   "id": "d891a760-2953-4d84-983e-b48f9b98feb7",
   "metadata": {},
   "outputs": [],
   "source": [
    "df[\"D2\"]=df[\"D\"]**2"
   ]
  },
  {
   "cell_type": "code",
   "execution_count": 53,
   "id": "425a0063-3fa8-467a-b72f-5c692c5f3073",
   "metadata": {},
   "outputs": [
    {
     "data": {
      "text/html": [
       "<div>\n",
       "<style scoped>\n",
       "    .dataframe tbody tr th:only-of-type {\n",
       "        vertical-align: middle;\n",
       "    }\n",
       "\n",
       "    .dataframe tbody tr th {\n",
       "        vertical-align: top;\n",
       "    }\n",
       "\n",
       "    .dataframe thead th {\n",
       "        text-align: right;\n",
       "    }\n",
       "</style>\n",
       "<table border=\"1\" class=\"dataframe\">\n",
       "  <thead>\n",
       "    <tr style=\"text-align: right;\">\n",
       "      <th></th>\n",
       "      <th>height</th>\n",
       "      <th>weight</th>\n",
       "      <th>rank1</th>\n",
       "      <th>rank2</th>\n",
       "      <th>d</th>\n",
       "      <th>D</th>\n",
       "      <th>d2</th>\n",
       "      <th>D2</th>\n",
       "    </tr>\n",
       "  </thead>\n",
       "  <tbody>\n",
       "    <tr>\n",
       "      <th>0</th>\n",
       "      <td>150</td>\n",
       "      <td>50</td>\n",
       "      <td>1.0</td>\n",
       "      <td>1.0</td>\n",
       "      <td>0.0</td>\n",
       "      <td>0.0</td>\n",
       "      <td>0.0</td>\n",
       "      <td>0.0</td>\n",
       "    </tr>\n",
       "    <tr>\n",
       "      <th>1</th>\n",
       "      <td>160</td>\n",
       "      <td>55</td>\n",
       "      <td>2.0</td>\n",
       "      <td>2.0</td>\n",
       "      <td>0.0</td>\n",
       "      <td>0.0</td>\n",
       "      <td>0.0</td>\n",
       "      <td>0.0</td>\n",
       "    </tr>\n",
       "    <tr>\n",
       "      <th>2</th>\n",
       "      <td>165</td>\n",
       "      <td>60</td>\n",
       "      <td>3.0</td>\n",
       "      <td>3.0</td>\n",
       "      <td>0.0</td>\n",
       "      <td>0.0</td>\n",
       "      <td>0.0</td>\n",
       "      <td>0.0</td>\n",
       "    </tr>\n",
       "    <tr>\n",
       "      <th>3</th>\n",
       "      <td>170</td>\n",
       "      <td>65</td>\n",
       "      <td>4.0</td>\n",
       "      <td>4.0</td>\n",
       "      <td>0.0</td>\n",
       "      <td>0.0</td>\n",
       "      <td>0.0</td>\n",
       "      <td>0.0</td>\n",
       "    </tr>\n",
       "    <tr>\n",
       "      <th>4</th>\n",
       "      <td>175</td>\n",
       "      <td>70</td>\n",
       "      <td>5.0</td>\n",
       "      <td>5.0</td>\n",
       "      <td>0.0</td>\n",
       "      <td>0.0</td>\n",
       "      <td>0.0</td>\n",
       "      <td>0.0</td>\n",
       "    </tr>\n",
       "  </tbody>\n",
       "</table>\n",
       "</div>"
      ],
      "text/plain": [
       "   height  weight  rank1  rank2    d    D   d2   D2\n",
       "0     150      50    1.0    1.0  0.0  0.0  0.0  0.0\n",
       "1     160      55    2.0    2.0  0.0  0.0  0.0  0.0\n",
       "2     165      60    3.0    3.0  0.0  0.0  0.0  0.0\n",
       "3     170      65    4.0    4.0  0.0  0.0  0.0  0.0\n",
       "4     175      70    5.0    5.0  0.0  0.0  0.0  0.0"
      ]
     },
     "execution_count": 53,
     "metadata": {},
     "output_type": "execute_result"
    }
   ],
   "source": [
    "df.head()"
   ]
  },
  {
   "cell_type": "code",
   "execution_count": 55,
   "id": "8b677b0d-e381-42fd-94a6-a63295b06a7d",
   "metadata": {},
   "outputs": [
    {
     "data": {
      "text/plain": [
       "0.0"
      ]
     },
     "execution_count": 55,
     "metadata": {},
     "output_type": "execute_result"
    }
   ],
   "source": [
    "sum_d2=df[\"D2\"].sum()\n",
    "sum_d2"
   ]
  },
  {
   "cell_type": "code",
   "execution_count": 57,
   "id": "bc650331-8653-4672-b28e-51c1de5fbd50",
   "metadata": {},
   "outputs": [
    {
     "data": {
      "text/plain": [
       "7"
      ]
     },
     "execution_count": 57,
     "metadata": {},
     "output_type": "execute_result"
    }
   ],
   "source": [
    "n=len(df)\n",
    "n"
   ]
  },
  {
   "cell_type": "code",
   "execution_count": 63,
   "id": "0b6a7842-9fa0-429d-bf44-6cff3d68dcab",
   "metadata": {},
   "outputs": [
    {
     "data": {
      "text/plain": [
       "1.0"
      ]
     },
     "execution_count": 63,
     "metadata": {},
     "output_type": "execute_result"
    }
   ],
   "source": [
    "correlation_sp=1-((6*sum_d2)/((n**3)-n))\n",
    "correlation_sp"
   ]
  },
  {
   "cell_type": "code",
   "execution_count": 91,
   "id": "9fdfdac4-91c5-4ab6-a186-363b297d2288",
   "metadata": {},
   "outputs": [
    {
     "data": {
      "text/plain": [
       "1185"
      ]
     },
     "execution_count": 91,
     "metadata": {},
     "output_type": "execute_result"
    }
   ],
   "source": [
    "height=df[\"height\"].sum()\n",
    "height\n",
    "#we calculate sum of frequency in height column"
   ]
  },
  {
   "cell_type": "code",
   "execution_count": 94,
   "id": "1f120625-c0e5-4d6b-9cd3-9dad3a220312",
   "metadata": {},
   "outputs": [
    {
     "data": {
      "text/plain": [
       "169.28571428571428"
      ]
     },
     "execution_count": 94,
     "metadata": {},
     "output_type": "execute_result"
    }
   ],
   "source": [
    "m_height=(df[\"height\"].sum()/n)\n",
    "m_height\n",
    "#we find mean of height"
   ]
  },
  {
   "cell_type": "code",
   "execution_count": 96,
   "id": "a2a046df-76b8-47b6-ac48-8a1d96f2bcc9",
   "metadata": {},
   "outputs": [
    {
     "data": {
      "text/plain": [
       "0   -19.285714\n",
       "1    -9.285714\n",
       "2    -4.285714\n",
       "3     0.714286\n",
       "4     5.714286\n",
       "5    10.714286\n",
       "6    15.714286\n",
       "Name: height, dtype: float64"
      ]
     },
     "execution_count": 96,
     "metadata": {},
     "output_type": "execute_result"
    }
   ],
   "source": [
    "f=(df[\"height\"]-m_height)\n",
    "f\n",
    "#then we find x-mean of height"
   ]
  },
  {
   "cell_type": "code",
   "execution_count": 100,
   "id": "d960a808-6444-4394-a2e2-22de7f6b7143",
   "metadata": {},
   "outputs": [
    {
     "data": {
      "text/plain": [
       "0    371.938776\n",
       "1     86.224490\n",
       "2     18.367347\n",
       "3      0.510204\n",
       "4     32.653061\n",
       "5    114.795918\n",
       "6    246.938776\n",
       "Name: height, dtype: float64"
      ]
     },
     "execution_count": 100,
     "metadata": {},
     "output_type": "execute_result"
    }
   ],
   "source": [
    "m=f**2\n",
    "m\n",
    "#then we find X-mean of height column"
   ]
  },
  {
   "cell_type": "code",
   "execution_count": 102,
   "id": "458a90c6-7cd3-4872-a956-a416cc96a15a",
   "metadata": {},
   "outputs": [],
   "source": [
    "import math\n",
    "#importing math library to use some mathametical operators"
   ]
  },
  {
   "cell_type": "code",
   "execution_count": 104,
   "id": "1e3f98e9-a63b-4d0a-932a-09a336115191",
   "metadata": {},
   "outputs": [
    {
     "data": {
      "text/plain": [
       "11.157499537009505"
      ]
     },
     "execution_count": 104,
     "metadata": {},
     "output_type": "execute_result"
    }
   ],
   "source": [
    "std_height=math.sqrt(m.sum()/n)\n",
    "std_height\n",
    "#here we got our standard deviation"
   ]
  },
  {
   "cell_type": "code",
   "execution_count": 106,
   "id": "24485592-aca9-4207-b648-591b7eabae4e",
   "metadata": {},
   "outputs": [
    {
     "data": {
      "text/plain": [
       "65.0"
      ]
     },
     "execution_count": 106,
     "metadata": {},
     "output_type": "execute_result"
    }
   ],
   "source": [
    "m_weight=df[\"weight\"].sum()/n\n",
    "m_weight\n",
    "#mean of weight"
   ]
  },
  {
   "cell_type": "code",
   "execution_count": 108,
   "id": "173ec20f-722d-4f5b-97e5-a770f2161418",
   "metadata": {},
   "outputs": [
    {
     "data": {
      "text/plain": [
       "0    225.0\n",
       "1    100.0\n",
       "2     25.0\n",
       "3      0.0\n",
       "4     25.0\n",
       "5    100.0\n",
       "6    225.0\n",
       "Name: weight, dtype: float64"
      ]
     },
     "execution_count": 108,
     "metadata": {},
     "output_type": "execute_result"
    }
   ],
   "source": [
    "w=(df[\"weight\"]-m_weight)**2\n",
    "w\n",
    "#(x-mean)square"
   ]
  },
  {
   "cell_type": "code",
   "execution_count": 114,
   "id": "9f5f993e-6060-4d4a-a3f6-d5730ee963d6",
   "metadata": {},
   "outputs": [
    {
     "data": {
      "text/plain": [
       "10.0"
      ]
     },
     "execution_count": 114,
     "metadata": {},
     "output_type": "execute_result"
    }
   ],
   "source": [
    "std_weight=math.sqrt(w.sum()/n)\n",
    "std_weight\n",
    "#here we got our standard deviation"
   ]
  },
  {
   "cell_type": "code",
   "execution_count": null,
   "id": "b5f9d6e0-f030-4041-a733-eec82987fc22",
   "metadata": {},
   "outputs": [],
   "source": []
  },
  {
   "cell_type": "code",
   "execution_count": null,
   "id": "3a1331cd-3a61-45d0-b916-ed0c7fd1355d",
   "metadata": {},
   "outputs": [],
   "source": []
  },
  {
   "cell_type": "code",
   "execution_count": null,
   "id": "fd45bdf0-81a0-4993-b932-5cccdb5d70d4",
   "metadata": {},
   "outputs": [],
   "source": []
  },
  {
   "cell_type": "code",
   "execution_count": null,
   "id": "24a95761-0b0c-4e12-aa2b-c4865636672b",
   "metadata": {},
   "outputs": [],
   "source": []
  }
 ],
 "metadata": {
  "kernelspec": {
   "display_name": "Python 3 (ipykernel)",
   "language": "python",
   "name": "python3"
  },
  "language_info": {
   "codemirror_mode": {
    "name": "ipython",
    "version": 3
   },
   "file_extension": ".py",
   "mimetype": "text/x-python",
   "name": "python",
   "nbconvert_exporter": "python",
   "pygments_lexer": "ipython3",
   "version": "3.12.4"
  }
 },
 "nbformat": 4,
 "nbformat_minor": 5
}
