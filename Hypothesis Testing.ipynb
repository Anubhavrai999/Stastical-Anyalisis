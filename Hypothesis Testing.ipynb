{
 "cells": [
  {
   "cell_type": "code",
   "execution_count": 17,
   "id": "bddacd79-ac45-414d-bc2d-07d7465a4134",
   "metadata": {},
   "outputs": [],
   "source": [
    "from scipy.stats import shapiro"
   ]
  },
  {
   "cell_type": "code",
   "execution_count": null,
   "id": "0cd0457a-8306-47b2-aac2-9592d9e3dbf8",
   "metadata": {},
   "outputs": [],
   "source": [
    "#example dataset\n",
    "data=[1.2,1.8,2.4,1.9,2.1,2.6,1.7,1000,500,250]\n",
    "\n",
    "#perform the Shapiro-wilk test\n",
    "stat,p=shapiro(data)"
   ]
  },
  {
   "cell_type": "code",
   "execution_count": 7,
   "id": "9b9c01c2-3f97-4d72-8886-0101a0b0e714",
   "metadata": {},
   "outputs": [],
   "source": [
    "import pandas as pd\n",
    "import numpy as np"
   ]
  },
  {
   "cell_type": "code",
   "execution_count": 11,
   "id": "a8b9318e-c563-4a7d-8d72-413066bc135c",
   "metadata": {},
   "outputs": [],
   "source": [
    "data = pd.read_csv(\"Salary_Data.csv\")\n",
    "df= pd.DataFrame(data)"
   ]
  },
  {
   "cell_type": "code",
   "execution_count": 13,
   "id": "bee6ff6c-372d-4938-899b-ca1e9ed63509",
   "metadata": {},
   "outputs": [
    {
     "data": {
      "text/html": [
       "<div>\n",
       "<style scoped>\n",
       "    .dataframe tbody tr th:only-of-type {\n",
       "        vertical-align: middle;\n",
       "    }\n",
       "\n",
       "    .dataframe tbody tr th {\n",
       "        vertical-align: top;\n",
       "    }\n",
       "\n",
       "    .dataframe thead th {\n",
       "        text-align: right;\n",
       "    }\n",
       "</style>\n",
       "<table border=\"1\" class=\"dataframe\">\n",
       "  <thead>\n",
       "    <tr style=\"text-align: right;\">\n",
       "      <th></th>\n",
       "      <th>YearsExperience</th>\n",
       "      <th>Salary</th>\n",
       "    </tr>\n",
       "  </thead>\n",
       "  <tbody>\n",
       "    <tr>\n",
       "      <th>count</th>\n",
       "      <td>30.000000</td>\n",
       "      <td>30.000000</td>\n",
       "    </tr>\n",
       "    <tr>\n",
       "      <th>mean</th>\n",
       "      <td>5.313333</td>\n",
       "      <td>76003.000000</td>\n",
       "    </tr>\n",
       "    <tr>\n",
       "      <th>std</th>\n",
       "      <td>2.837888</td>\n",
       "      <td>27414.429785</td>\n",
       "    </tr>\n",
       "    <tr>\n",
       "      <th>min</th>\n",
       "      <td>1.100000</td>\n",
       "      <td>37731.000000</td>\n",
       "    </tr>\n",
       "    <tr>\n",
       "      <th>25%</th>\n",
       "      <td>3.200000</td>\n",
       "      <td>56720.750000</td>\n",
       "    </tr>\n",
       "    <tr>\n",
       "      <th>50%</th>\n",
       "      <td>4.700000</td>\n",
       "      <td>65237.000000</td>\n",
       "    </tr>\n",
       "    <tr>\n",
       "      <th>75%</th>\n",
       "      <td>7.700000</td>\n",
       "      <td>100544.750000</td>\n",
       "    </tr>\n",
       "    <tr>\n",
       "      <th>max</th>\n",
       "      <td>10.500000</td>\n",
       "      <td>122391.000000</td>\n",
       "    </tr>\n",
       "  </tbody>\n",
       "</table>\n",
       "</div>"
      ],
      "text/plain": [
       "       YearsExperience         Salary\n",
       "count        30.000000      30.000000\n",
       "mean          5.313333   76003.000000\n",
       "std           2.837888   27414.429785\n",
       "min           1.100000   37731.000000\n",
       "25%           3.200000   56720.750000\n",
       "50%           4.700000   65237.000000\n",
       "75%           7.700000  100544.750000\n",
       "max          10.500000  122391.000000"
      ]
     },
     "execution_count": 13,
     "metadata": {},
     "output_type": "execute_result"
    }
   ],
   "source": [
    "df.describe()"
   ]
  },
  {
   "cell_type": "code",
   "execution_count": 15,
   "id": "d5c3b1a8-f2ed-4131-ac8f-edefdddea34b",
   "metadata": {},
   "outputs": [
    {
     "data": {
      "text/html": [
       "<div>\n",
       "<style scoped>\n",
       "    .dataframe tbody tr th:only-of-type {\n",
       "        vertical-align: middle;\n",
       "    }\n",
       "\n",
       "    .dataframe tbody tr th {\n",
       "        vertical-align: top;\n",
       "    }\n",
       "\n",
       "    .dataframe thead th {\n",
       "        text-align: right;\n",
       "    }\n",
       "</style>\n",
       "<table border=\"1\" class=\"dataframe\">\n",
       "  <thead>\n",
       "    <tr style=\"text-align: right;\">\n",
       "      <th></th>\n",
       "      <th>YearsExperience</th>\n",
       "      <th>Salary</th>\n",
       "    </tr>\n",
       "  </thead>\n",
       "  <tbody>\n",
       "    <tr>\n",
       "      <th>0</th>\n",
       "      <td>1.1</td>\n",
       "      <td>39343</td>\n",
       "    </tr>\n",
       "    <tr>\n",
       "      <th>1</th>\n",
       "      <td>1.3</td>\n",
       "      <td>46205</td>\n",
       "    </tr>\n",
       "    <tr>\n",
       "      <th>2</th>\n",
       "      <td>1.5</td>\n",
       "      <td>37731</td>\n",
       "    </tr>\n",
       "    <tr>\n",
       "      <th>3</th>\n",
       "      <td>2.0</td>\n",
       "      <td>43525</td>\n",
       "    </tr>\n",
       "    <tr>\n",
       "      <th>4</th>\n",
       "      <td>2.2</td>\n",
       "      <td>39891</td>\n",
       "    </tr>\n",
       "  </tbody>\n",
       "</table>\n",
       "</div>"
      ],
      "text/plain": [
       "   YearsExperience  Salary\n",
       "0              1.1   39343\n",
       "1              1.3   46205\n",
       "2              1.5   37731\n",
       "3              2.0   43525\n",
       "4              2.2   39891"
      ]
     },
     "execution_count": 15,
     "metadata": {},
     "output_type": "execute_result"
    }
   ],
   "source": [
    "df.head()"
   ]
  },
  {
   "cell_type": "code",
   "execution_count": 25,
   "id": "c7bd0bbc-e0cf-4e9d-b3ce-6dfce1915a3d",
   "metadata": {},
   "outputs": [],
   "source": [
    "from scipy.stats import shapiro\n",
    "import numpy as np"
   ]
  },
  {
   "cell_type": "code",
   "execution_count": 27,
   "id": "6e539794-e055-4c10-a450-2a67a0f56f6e",
   "metadata": {},
   "outputs": [
    {
     "data": {
      "text/plain": [
       "0      39343\n",
       "1      46205\n",
       "2      37731\n",
       "3      43525\n",
       "4      39891\n",
       "5      56642\n",
       "6      60150\n",
       "7      54445\n",
       "8      64445\n",
       "9      57189\n",
       "10     63218\n",
       "11     55794\n",
       "12     56957\n",
       "13     57081\n",
       "14     61111\n",
       "15     67938\n",
       "16     66029\n",
       "17     83088\n",
       "18     81363\n",
       "19     93940\n",
       "20     91738\n",
       "21     98273\n",
       "22    101302\n",
       "23    113812\n",
       "24    109431\n",
       "25    105582\n",
       "26    116969\n",
       "27    112635\n",
       "28    122391\n",
       "29    121872\n",
       "Name: Salary, dtype: int64"
      ]
     },
     "execution_count": 27,
     "metadata": {},
     "output_type": "execute_result"
    }
   ],
   "source": [
    "A= df[\"Salary\"]\n",
    "A"
   ]
  },
  {
   "cell_type": "code",
   "execution_count": 31,
   "id": "e065c15c-614c-4fe7-b0a7-0be9b61dba6e",
   "metadata": {},
   "outputs": [
    {
     "name": "stdout",
     "output_type": "stream",
     "text": [
      "Shapiro-Wilk Test Statistic: 0.9103154593927696\n",
      "p-value: 0.015155591078390984\n",
      "The data is not normally distributed (reject H0)\n"
     ]
    }
   ],
   "source": [
    "stat, p = shapiro(A)\n",
    "\n",
    "# Print the results\n",
    "print(\"Shapiro-Wilk Test Statistic:\", stat)\n",
    "print(\"p-value:\", p)\n",
    "if p > 0.05:\n",
    "    print(\"The data is normally distributed (fail to reject H0)\")\n",
    "else:\n",
    "    print(\"The data is not normally distributed (reject H0)\")"
   ]
  },
  {
   "cell_type": "code",
   "execution_count": 53,
   "id": "147f6dd8-0aaf-4bc7-8e66-cc8eaded9641",
   "metadata": {},
   "outputs": [
    {
     "data": {
      "text/plain": [
       "0      1.1\n",
       "1      1.3\n",
       "2      1.5\n",
       "3      2.0\n",
       "4      2.2\n",
       "5      2.9\n",
       "6      3.0\n",
       "7      3.2\n",
       "8      3.2\n",
       "9      3.7\n",
       "10     3.9\n",
       "11     4.0\n",
       "12     4.0\n",
       "13     4.1\n",
       "14     4.5\n",
       "15     4.9\n",
       "16     5.1\n",
       "17     5.3\n",
       "18     5.9\n",
       "19     6.0\n",
       "20     6.8\n",
       "21     7.1\n",
       "22     7.9\n",
       "23     8.2\n",
       "24     8.7\n",
       "25     9.0\n",
       "26     9.5\n",
       "27     9.6\n",
       "28    10.3\n",
       "29    10.5\n",
       "Name: YearsExperience, dtype: float64"
      ]
     },
     "execution_count": 53,
     "metadata": {},
     "output_type": "execute_result"
    }
   ],
   "source": [
    "B= df[\"YearsExperience\"]\n",
    "B"
   ]
  },
  {
   "cell_type": "code",
   "execution_count": 39,
   "id": "7fe1eabe-9351-406a-9420-c8d8961ef208",
   "metadata": {},
   "outputs": [
    {
     "name": "stdout",
     "output_type": "stream",
     "text": [
      "Shapiro-Wilk Test Statistic: 0.9420625539372643\n",
      "p-value: 0.10337645734315726\n",
      "The data is normally distributed (fail to reject H0)\n"
     ]
    }
   ],
   "source": [
    "stat, p = shapiro(B)\n",
    "\n",
    "# Print the results\n",
    "print(\"Shapiro-Wilk Test Statistic:\", stat)\n",
    "print(\"p-value:\", p)\n",
    "if p > 0.05:\n",
    "    print(\"The data is normally distributed (fail to reject H0)\")\n",
    "else:\n",
    "    print(\"The data is not normally distributed (reject H0)\")"
   ]
  },
  {
   "cell_type": "code",
   "execution_count": 45,
   "id": "5bae2ea3-1787-441a-adea-ca3103c21067",
   "metadata": {},
   "outputs": [
    {
     "name": "stdout",
     "output_type": "stream",
     "text": [
      "K**2 Statistic: 0.9782416184887599\n",
      "p-value: 1.1430681092271567e-20\n",
      "The data is not normally distributed (reject H0)\n"
     ]
    }
   ],
   "source": [
    "from scipy.stats import pearsonr\n",
    "\n",
    "stat, p = pearsonr(A,B)\n",
    "\n",
    "# Print the results\n",
    "print(\"K**2 Statistic:\", stat)\n",
    "print(\"p-value:\", p)\n",
    "if p > 0.05:\n",
    "    print(\"The data is normally distributed (fail to reject H0)\")\n",
    "else:\n",
    "    print(\"The data is not normally distributed (reject H0)\")"
   ]
  },
  {
   "cell_type": "code",
   "execution_count": 9,
   "id": "677cd738-dbd2-43e9-ba62-44da2aa04f17",
   "metadata": {},
   "outputs": [],
   "source": [
    "\n",
    "\n",
    "                                     #T-TEST\n",
    "\n"
   ]
  },
  {
   "cell_type": "code",
   "execution_count": 5,
   "id": "2c00b8c1-d6a7-487a-acdc-5f1f4111ccac",
   "metadata": {},
   "outputs": [],
   "source": [
    "data1=[55,65,89,45,78,21,35,69,85,55,47,62,88]\n",
    "data2=[65,88,52,45,22,36,96,69,54,12,80,54,30]"
   ]
  },
  {
   "cell_type": "code",
   "execution_count": 1,
   "id": "3179ece7-a750-471b-8dd7-83bc9b847d31",
   "metadata": {},
   "outputs": [],
   "source": [
    "import numpy as np"
   ]
  },
  {
   "cell_type": "code",
   "execution_count": 7,
   "id": "99fed5a4-a7be-480c-a757-0d0eb880d710",
   "metadata": {},
   "outputs": [
    {
     "name": "stdout",
     "output_type": "stream",
     "text": [
      "The actual mean is: 61.07692307692308\n"
     ]
    }
   ],
   "source": [
    "a=np.mean(data1)\n",
    "a=a\n",
    "print(\"The actual mean is:\",a)"
   ]
  },
  {
   "cell_type": "code",
   "execution_count": 9,
   "id": "f93f46ac-4d4a-40ca-8e6e-2f644116cfa3",
   "metadata": {},
   "outputs": [
    {
     "name": "stdout",
     "output_type": "stream",
     "text": [
      "0.45022060766925287\n",
      "0.7675840952587548\n",
      "The mean of both the sample are different(accept Ho)\n"
     ]
    }
   ],
   "source": [
    "\n",
    "from scipy.stats import ttest_ind\n",
    "stat,pvalue=ttest_ind(data1,data2)\n",
    "print(pvalue)\n",
    "print(stat)\n",
    "if 0.05>pvalue:\n",
    "    print(\"The mean of both the sample are same(accept Ha)\")\n",
    "else:\n",
    "    print(\"The mean of both the sample are different(accept Ho)\")"
   ]
  },
  {
   "cell_type": "code",
   "execution_count": null,
   "id": "dc9b22f3-785d-4caf-aefe-4cea65db8657",
   "metadata": {},
   "outputs": [],
   "source": []
  },
  {
   "cell_type": "code",
   "execution_count": null,
   "id": "1297e513-d589-4f49-ac74-7dbbfad8e08b",
   "metadata": {},
   "outputs": [],
   "source": []
  }
 ],
 "metadata": {
  "kernelspec": {
   "display_name": "Python 3 (ipykernel)",
   "language": "python",
   "name": "python3"
  },
  "language_info": {
   "codemirror_mode": {
    "name": "ipython",
    "version": 3
   },
   "file_extension": ".py",
   "mimetype": "text/x-python",
   "name": "python",
   "nbconvert_exporter": "python",
   "pygments_lexer": "ipython3",
   "version": "3.12.4"
  }
 },
 "nbformat": 4,
 "nbformat_minor": 5
}
