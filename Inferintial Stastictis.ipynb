{
 "cells": [
  {
   "cell_type": "code",
   "execution_count": 6,
   "id": "2a45e9a3-f63a-4b38-83a9-76d46f6f2bec",
   "metadata": {},
   "outputs": [],
   "source": [
    "import numpy as np\n",
    "import pandas as pd"
   ]
  },
  {
   "cell_type": "code",
   "execution_count": 7,
   "id": "f9af91e8-2713-47e1-949e-5aa7b361a211",
   "metadata": {},
   "outputs": [],
   "source": [
    "df= pd.read_csv(\"diabetes.csv\")"
   ]
  },
  {
   "cell_type": "code",
   "execution_count": 8,
   "id": "05ac07b4-68b2-4380-b618-736a29b2a42d",
   "metadata": {},
   "outputs": [
    {
     "data": {
      "text/html": [
       "<div>\n",
       "<style scoped>\n",
       "    .dataframe tbody tr th:only-of-type {\n",
       "        vertical-align: middle;\n",
       "    }\n",
       "\n",
       "    .dataframe tbody tr th {\n",
       "        vertical-align: top;\n",
       "    }\n",
       "\n",
       "    .dataframe thead th {\n",
       "        text-align: right;\n",
       "    }\n",
       "</style>\n",
       "<table border=\"1\" class=\"dataframe\">\n",
       "  <thead>\n",
       "    <tr style=\"text-align: right;\">\n",
       "      <th></th>\n",
       "      <th>Pregnancies</th>\n",
       "      <th>Glucose</th>\n",
       "      <th>BloodPressure</th>\n",
       "      <th>SkinThickness</th>\n",
       "      <th>Insulin</th>\n",
       "      <th>BMI</th>\n",
       "      <th>DiabetesPedigreeFunction</th>\n",
       "      <th>Age</th>\n",
       "      <th>Outcome</th>\n",
       "    </tr>\n",
       "  </thead>\n",
       "  <tbody>\n",
       "    <tr>\n",
       "      <th>0</th>\n",
       "      <td>6</td>\n",
       "      <td>148</td>\n",
       "      <td>72</td>\n",
       "      <td>35</td>\n",
       "      <td>0</td>\n",
       "      <td>33.6</td>\n",
       "      <td>0.627</td>\n",
       "      <td>50</td>\n",
       "      <td>1</td>\n",
       "    </tr>\n",
       "    <tr>\n",
       "      <th>1</th>\n",
       "      <td>1</td>\n",
       "      <td>85</td>\n",
       "      <td>66</td>\n",
       "      <td>29</td>\n",
       "      <td>0</td>\n",
       "      <td>26.6</td>\n",
       "      <td>0.351</td>\n",
       "      <td>31</td>\n",
       "      <td>0</td>\n",
       "    </tr>\n",
       "    <tr>\n",
       "      <th>2</th>\n",
       "      <td>8</td>\n",
       "      <td>183</td>\n",
       "      <td>64</td>\n",
       "      <td>0</td>\n",
       "      <td>0</td>\n",
       "      <td>23.3</td>\n",
       "      <td>0.672</td>\n",
       "      <td>32</td>\n",
       "      <td>1</td>\n",
       "    </tr>\n",
       "    <tr>\n",
       "      <th>3</th>\n",
       "      <td>1</td>\n",
       "      <td>89</td>\n",
       "      <td>66</td>\n",
       "      <td>23</td>\n",
       "      <td>94</td>\n",
       "      <td>28.1</td>\n",
       "      <td>0.167</td>\n",
       "      <td>21</td>\n",
       "      <td>0</td>\n",
       "    </tr>\n",
       "    <tr>\n",
       "      <th>4</th>\n",
       "      <td>0</td>\n",
       "      <td>137</td>\n",
       "      <td>40</td>\n",
       "      <td>35</td>\n",
       "      <td>168</td>\n",
       "      <td>43.1</td>\n",
       "      <td>2.288</td>\n",
       "      <td>33</td>\n",
       "      <td>1</td>\n",
       "    </tr>\n",
       "  </tbody>\n",
       "</table>\n",
       "</div>"
      ],
      "text/plain": [
       "   Pregnancies  Glucose  BloodPressure  SkinThickness  Insulin   BMI  \\\n",
       "0            6      148             72             35        0  33.6   \n",
       "1            1       85             66             29        0  26.6   \n",
       "2            8      183             64              0        0  23.3   \n",
       "3            1       89             66             23       94  28.1   \n",
       "4            0      137             40             35      168  43.1   \n",
       "\n",
       "   DiabetesPedigreeFunction  Age  Outcome  \n",
       "0                     0.627   50        1  \n",
       "1                     0.351   31        0  \n",
       "2                     0.672   32        1  \n",
       "3                     0.167   21        0  \n",
       "4                     2.288   33        1  "
      ]
     },
     "execution_count": 8,
     "metadata": {},
     "output_type": "execute_result"
    }
   ],
   "source": [
    "df.head()"
   ]
  },
  {
   "cell_type": "code",
   "execution_count": 9,
   "id": "a496d007-aca2-4ccc-a48b-d54075453109",
   "metadata": {},
   "outputs": [],
   "source": [
    "from scipy.stats import shapiro"
   ]
  },
  {
   "cell_type": "code",
   "execution_count": 10,
   "id": "d67de1e5-dac4-4102-bc4c-f939e6eb7db8",
   "metadata": {},
   "outputs": [
    {
     "name": "stdout",
     "output_type": "stream",
     "text": [
      "the p value is: 1.6092572358874225e-21\n",
      "the database is not normalized\n"
     ]
    }
   ],
   "source": [
    "stat,p=shapiro(df[\"Pregnancies\"])\n",
    "print(\"the p value is:\",p)\n",
    "if p>0.05:\n",
    "    print(\"the database is normalized\")\n",
    "else:\n",
    "    print(\"the database is not normalized\")\n",
    "\n"
   ]
  },
  {
   "cell_type": "code",
   "execution_count": 11,
   "id": "8296e0ca-7e85-4607-a908-1ff2201dbc1b",
   "metadata": {},
   "outputs": [
    {
     "name": "stdout",
     "output_type": "stream",
     "text": [
      "the p value is: 1.9863474999979633e-11\n",
      "the database is not normalized\n"
     ]
    }
   ],
   "source": [
    "stat,p=shapiro(df[\"Glucose\"])\n",
    "print(\"the p value is:\",p)\n",
    "if p>0.05:\n",
    "    print(\"the database is normalized\")\n",
    "else:\n",
    "    print(\"the database is not normalized\")"
   ]
  },
  {
   "cell_type": "code",
   "execution_count": 12,
   "id": "89958c39-61ba-4da0-b41f-b3cb0a88cbfc",
   "metadata": {},
   "outputs": [
    {
     "name": "stdout",
     "output_type": "stream",
     "text": [
      "the p value is: 1.5841623290215717e-28\n",
      "the database is not normalized\n"
     ]
    }
   ],
   "source": [
    "stat,p=shapiro(df[\"BloodPressure\"])\n",
    "print(\"the p value is:\",p)\n",
    "if p>0.05:\n",
    "    print(\"the database is normalized\")\n",
    "else:\n",
    "    print(\"the database is not normalized\")"
   ]
  },
  {
   "cell_type": "code",
   "execution_count": 13,
   "id": "0eb9f1e0-f575-425a-a5ed-03c1f00340d5",
   "metadata": {},
   "outputs": [
    {
     "name": "stdout",
     "output_type": "stream",
     "text": [
      "the p value is: 1.751754164091415e-21\n",
      "the database is not normalized\n"
     ]
    }
   ],
   "source": [
    "stat,p=shapiro(df[\"SkinThickness\"])\n",
    "print(\"the p value is:\",p)\n",
    "if p>0.05:\n",
    "    print(\"the database is normalized\")\n",
    "else:\n",
    "    print(\"the database is not normalized\")"
   ]
  },
  {
   "cell_type": "code",
   "execution_count": 14,
   "id": "4a1a9176-b505-4596-967e-b30da8b76181",
   "metadata": {},
   "outputs": [
    {
     "name": "stdout",
     "output_type": "stream",
     "text": [
      "the p value is: 7.914331939766787e-34\n",
      "the database is not normalized\n"
     ]
    }
   ],
   "source": [
    "stat,p=shapiro(df[\"Insulin\"])\n",
    "print(\"the p value is:\",p)\n",
    "if p>0.05:\n",
    "    print(\"the database is normalized\")\n",
    "else:\n",
    "    print(\"the database is not normalized\")"
   ]
  },
  {
   "cell_type": "code",
   "execution_count": 15,
   "id": "95cfce18-928b-45bb-9378-f1c4ed191811",
   "metadata": {},
   "outputs": [
    {
     "name": "stdout",
     "output_type": "stream",
     "text": [
      "the p value is: 1.8416516138516335e-15\n",
      "the database is not normalized\n"
     ]
    }
   ],
   "source": [
    "stat,p=shapiro(df[\"BMI\"])\n",
    "print(\"the p value is:\",p)\n",
    "if p>0.05:\n",
    "    print(\"the database is normalized\")\n",
    "else:\n",
    "    print(\"the database is not normalized\")"
   ]
  },
  {
   "cell_type": "code",
   "execution_count": 16,
   "id": "65a73a60-53a6-42ec-86a1-525dfab58036",
   "metadata": {},
   "outputs": [
    {
     "name": "stdout",
     "output_type": "stream",
     "text": [
      "the p value is: 2.477505530854268e-27\n",
      "the database is not normalized\n"
     ]
    }
   ],
   "source": [
    "stat,p=shapiro(df[\"DiabetesPedigreeFunction\"])\n",
    "print(\"the p value is:\",p)\n",
    "if p>0.05:\n",
    "    print(\"the database is normalized\")\n",
    "else:\n",
    "    print(\"the database is not normalized\")"
   ]
  },
  {
   "cell_type": "code",
   "execution_count": 17,
   "id": "dba5b6f4-ef0f-4800-8cca-faf1e15322ff",
   "metadata": {},
   "outputs": [
    {
     "name": "stdout",
     "output_type": "stream",
     "text": [
      "the p value is: 2.4022741290400888e-24\n",
      "the database is not normalized\n"
     ]
    }
   ],
   "source": [
    "stat,p=shapiro(df[\"Age\"])\n",
    "print(\"the p value is:\",p)\n",
    "if p>0.05:\n",
    "    print(\"the database is normalized\")\n",
    "else:\n",
    "    print(\"the database is not normalized\")"
   ]
  },
  {
   "cell_type": "code",
   "execution_count": 18,
   "id": "2d3bdcf8-f70a-40a2-a5ef-f443a4c31ac1",
   "metadata": {},
   "outputs": [
    {
     "name": "stdout",
     "output_type": "stream",
     "text": [
      "the p value is: 1.2926899738528582e-38\n",
      "the database is not normalized\n"
     ]
    }
   ],
   "source": [
    "stat,p=shapiro(df[\"Outcome\"])\n",
    "print(\"the p value is:\",p)\n",
    "if p>0.05:\n",
    "    print(\"the database is normalized\")\n",
    "else:\n",
    "    print(\"the database is not normalized\")"
   ]
  },
  {
   "cell_type": "code",
   "execution_count": 19,
   "id": "526fc871-8c90-4bc7-bcf8-5d4a1bca42a6",
   "metadata": {},
   "outputs": [
    {
     "name": "stdout",
     "output_type": "stream",
     "text": [
      "Pvalue is: 0.35353460198769926\n",
      "Stat value is: -0.03352267296261311\n",
      "The data is not correalted\n"
     ]
    }
   ],
   "source": [
    "from scipy.stats import pearsonr\n",
    "stat,p=pearsonr(df[\"DiabetesPedigreeFunction\"],df[\"Pregnancies\"])\n",
    "print(\"Pvalue is:\",p)\n",
    "print(\"Stat value is:\",stat)\n",
    "if p>0.05:\n",
    "  print(\"The data is not correalted\")\n",
    "else:\n",
    "  print(\"The Data is correlated\")"
   ]
  },
  {
   "cell_type": "code",
   "execution_count": 20,
   "id": "69fa1af5-83b0-447d-b0a1-ae7ab048a353",
   "metadata": {},
   "outputs": [
    {
     "name": "stdout",
     "output_type": "stream",
     "text": [
      "Pvalue is: 0.00013458781437157466\n",
      "Stat value is: 0.13733729982837073\n",
      "The Data is correlated\n"
     ]
    }
   ],
   "source": [
    "from scipy.stats import pearsonr\n",
    "stat,p=pearsonr(df[\"DiabetesPedigreeFunction\"],df[\"Glucose\"])\n",
    "print(\"Pvalue is:\",p)\n",
    "print(\"Stat value is:\",stat)\n",
    "if p>0.05:\n",
    "  print(\"The data is not correalted\")\n",
    "else:\n",
    "  print(\"The Data is correlated\")"
   ]
  },
  {
   "cell_type": "code",
   "execution_count": 21,
   "id": "2c023e57-51cb-4a92-a4a6-cc60f1627f24",
   "metadata": {},
   "outputs": [
    {
     "name": "stdout",
     "output_type": "stream",
     "text": [
      "Pvalue is: 0.2533743720192343\n",
      "Stat value is: 0.04126494793009858\n",
      "The data is not correalted\n"
     ]
    }
   ],
   "source": [
    "from scipy.stats import pearsonr\n",
    "stat,p=pearsonr(df[\"DiabetesPedigreeFunction\"],df[\"BloodPressure\"])\n",
    "print(\"Pvalue is:\",p)\n",
    "print(\"Stat value is:\",stat)\n",
    "if p>0.05:\n",
    "  print(\"The data is not correalted\")\n",
    "else:\n",
    "  print(\"The Data is correlated\")"
   ]
  },
  {
   "cell_type": "code",
   "execution_count": 22,
   "id": "9bab4b65-2873-4213-9069-c41347c88c5a",
   "metadata": {},
   "outputs": [
    {
     "name": "stdout",
     "output_type": "stream",
     "text": [
      "Pvalue is: 2.8561794700267096e-07\n",
      "Stat value is: 0.18392757295416323\n",
      "The Data is correlated\n"
     ]
    }
   ],
   "source": [
    "stat,p=pearsonr(df[\"DiabetesPedigreeFunction\"],df[\"SkinThickness\"])\n",
    "print(\"Pvalue is:\",p)\n",
    "print(\"Stat value is:\",stat)\n",
    "if p>0.05:\n",
    "  print(\"The data is not correalted\")\n",
    "else:\n",
    "  print(\"The Data is correlated\")"
   ]
  },
  {
   "cell_type": "code",
   "execution_count": 23,
   "id": "2333afa1-0414-4097-9eee-1e20649f15f4",
   "metadata": {},
   "outputs": [
    {
     "name": "stdout",
     "output_type": "stream",
     "text": [
      "Pvalue is: 2.402264073942396e-07\n",
      "Stat value is: 0.1850709291680991\n",
      "The Data is correlated\n"
     ]
    }
   ],
   "source": [
    "stat,p=pearsonr(df[\"DiabetesPedigreeFunction\"],df[\"Insulin\"])\n",
    "print(\"Pvalue is:\",p)\n",
    "print(\"Stat value is:\",stat)\n",
    "if p>0.05:\n",
    "  print(\"The data is not correalted\")\n",
    "else:\n",
    "  print(\"The Data is correlated\")"
   ]
  },
  {
   "cell_type": "code",
   "execution_count": 24,
   "id": "500c460b-d722-44f8-8a47-18e77588d0fd",
   "metadata": {},
   "outputs": [
    {
     "name": "stdout",
     "output_type": "stream",
     "text": [
      "Pvalue is: 9.197970126957359e-05\n",
      "Stat value is: 0.14064695254510517\n",
      "The Data is correlated\n"
     ]
    }
   ],
   "source": [
    "stat,p=pearsonr(df[\"DiabetesPedigreeFunction\"],df[\"BMI\"])\n",
    "print(\"Pvalue is:\",p)\n",
    "print(\"Stat value is:\",stat)\n",
    "if p>0.05:\n",
    "  print(\"The data is not correalted\")\n",
    "else:\n",
    "  print(\"The Data is correlated\")"
   ]
  },
  {
   "cell_type": "code",
   "execution_count": 25,
   "id": "6c290483-e30a-47d9-8179-8b4e339436d6",
   "metadata": {},
   "outputs": [
    {
     "name": "stdout",
     "output_type": "stream",
     "text": [
      "Pvalue is: 0.3529797336668882\n",
      "Stat value is: 0.03356131243480553\n",
      "The data is not correalted\n"
     ]
    }
   ],
   "source": [
    "stat,p=pearsonr(df[\"DiabetesPedigreeFunction\"],df[\"Age\"])\n",
    "print(\"Pvalue is:\",p)\n",
    "print(\"Stat value is:\",stat)\n",
    "if p>0.05:\n",
    "  print(\"The data is not correalted\")\n",
    "else:\n",
    "  print(\"The Data is correlated\")"
   ]
  },
  {
   "cell_type": "code",
   "execution_count": 26,
   "id": "a9d40714-63ef-4e54-940d-6d50bd339f69",
   "metadata": {},
   "outputs": [
    {
     "name": "stdout",
     "output_type": "stream",
     "text": [
      "Pvalue is: 1.2546070101487771e-06\n",
      "Stat value is: 0.1738440656529601\n",
      "The Data is correlated\n"
     ]
    }
   ],
   "source": [
    "stat,p=pearsonr(df[\"DiabetesPedigreeFunction\"],df[\"Outcome\"])\n",
    "print(\"Pvalue is:\",p)\n",
    "print(\"Stat value is:\",stat)\n",
    "if p>0.05:\n",
    "  print(\"The data is not correalted\")\n",
    "else:\n",
    "  print(\"The Data is correlated\")"
   ]
  },
  {
   "cell_type": "code",
   "execution_count": 27,
   "id": "2ec58acf-d79d-42e8-8586-173d697c09f8",
   "metadata": {},
   "outputs": [
    {
     "name": "stdout",
     "output_type": "stream",
     "text": [
      "pvalue is: 0.0\n",
      "stat value is: 1.0\n",
      "The data is correlated\n"
     ]
    }
   ],
   "source": [
    "from scipy.stats import pearsonr\n",
    "stat,p=pearsonr(df[\"DiabetesPedigreeFunction\"],df[\"DiabetesPedigreeFunction\"])\n",
    "print(\"pvalue is:\",p)\n",
    "print(\"stat value is:\",stat)\n",
    "if p>0.05:\n",
    "    print(\"The data is not correlataed\")\n",
    "else:\n",
    "    print(\"The data is correlated\")"
   ]
  },
  {
   "cell_type": "code",
   "execution_count": null,
   "id": "91f885c4-c022-4dc9-8251-b37a08bb3be6",
   "metadata": {},
   "outputs": [],
   "source": []
  },
  {
   "cell_type": "code",
   "execution_count": null,
   "id": "240b7348-70bf-4be8-a8a8-4cd71ad41dba",
   "metadata": {},
   "outputs": [],
   "source": []
  }
 ],
 "metadata": {
  "kernelspec": {
   "display_name": "Python 3 (ipykernel)",
   "language": "python",
   "name": "python3"
  },
  "language_info": {
   "codemirror_mode": {
    "name": "ipython",
    "version": 3
   },
   "file_extension": ".py",
   "mimetype": "text/x-python",
   "name": "python",
   "nbconvert_exporter": "python",
   "pygments_lexer": "ipython3",
   "version": "3.12.4"
  }
 },
 "nbformat": 4,
 "nbformat_minor": 5
}
