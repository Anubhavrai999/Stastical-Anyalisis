{
 "cells": [
  {
   "cell_type": "code",
   "execution_count": 12,
   "id": "5e5e6a50-d6d9-4ec6-92b2-20490ffe5462",
   "metadata": {},
   "outputs": [],
   "source": [
    "import numpy as np\n",
    "import pandas as pd"
   ]
  },
  {
   "cell_type": "code",
   "execution_count": 24,
   "id": "6885064a-c1c5-4c5c-a729-28e7285f82c3",
   "metadata": {},
   "outputs": [],
   "source": [
    "test={\"gender\":[\"m\",\"f\",\"f\",\"m\",\"f\",\"f\"],\n",
    "      \"result\":[\"pass\",\"fail\",\"pass\",\"pass\",\"fail\",\"pass\"]}\n",
    "df=pd.DataFrame(test)"
   ]
  },
  {
   "cell_type": "code",
   "execution_count": 26,
   "id": "9e0f17b8-e811-4b9a-b6af-214dfa44bb43",
   "metadata": {},
   "outputs": [
    {
     "data": {
      "text/html": [
       "<div>\n",
       "<style scoped>\n",
       "    .dataframe tbody tr th:only-of-type {\n",
       "        vertical-align: middle;\n",
       "    }\n",
       "\n",
       "    .dataframe tbody tr th {\n",
       "        vertical-align: top;\n",
       "    }\n",
       "\n",
       "    .dataframe thead th {\n",
       "        text-align: right;\n",
       "    }\n",
       "</style>\n",
       "<table border=\"1\" class=\"dataframe\">\n",
       "  <thead>\n",
       "    <tr style=\"text-align: right;\">\n",
       "      <th></th>\n",
       "      <th>gender</th>\n",
       "      <th>result</th>\n",
       "    </tr>\n",
       "  </thead>\n",
       "  <tbody>\n",
       "    <tr>\n",
       "      <th>0</th>\n",
       "      <td>m</td>\n",
       "      <td>pass</td>\n",
       "    </tr>\n",
       "    <tr>\n",
       "      <th>1</th>\n",
       "      <td>f</td>\n",
       "      <td>fail</td>\n",
       "    </tr>\n",
       "    <tr>\n",
       "      <th>2</th>\n",
       "      <td>f</td>\n",
       "      <td>pass</td>\n",
       "    </tr>\n",
       "    <tr>\n",
       "      <th>3</th>\n",
       "      <td>m</td>\n",
       "      <td>pass</td>\n",
       "    </tr>\n",
       "    <tr>\n",
       "      <th>4</th>\n",
       "      <td>f</td>\n",
       "      <td>fail</td>\n",
       "    </tr>\n",
       "  </tbody>\n",
       "</table>\n",
       "</div>"
      ],
      "text/plain": [
       "  gender result\n",
       "0      m   pass\n",
       "1      f   fail\n",
       "2      f   pass\n",
       "3      m   pass\n",
       "4      f   fail"
      ]
     },
     "execution_count": 26,
     "metadata": {},
     "output_type": "execute_result"
    }
   ],
   "source": [
    "df.head()"
   ]
  },
  {
   "cell_type": "code",
   "execution_count": 28,
   "id": "f9000596-1f4e-4434-b13d-9baa80515699",
   "metadata": {},
   "outputs": [
    {
     "data": {
      "text/html": [
       "<div>\n",
       "<style scoped>\n",
       "    .dataframe tbody tr th:only-of-type {\n",
       "        vertical-align: middle;\n",
       "    }\n",
       "\n",
       "    .dataframe tbody tr th {\n",
       "        vertical-align: top;\n",
       "    }\n",
       "\n",
       "    .dataframe thead th {\n",
       "        text-align: right;\n",
       "    }\n",
       "</style>\n",
       "<table border=\"1\" class=\"dataframe\">\n",
       "  <thead>\n",
       "    <tr style=\"text-align: right;\">\n",
       "      <th>result</th>\n",
       "      <th>fail</th>\n",
       "      <th>pass</th>\n",
       "    </tr>\n",
       "    <tr>\n",
       "      <th>gender</th>\n",
       "      <th></th>\n",
       "      <th></th>\n",
       "    </tr>\n",
       "  </thead>\n",
       "  <tbody>\n",
       "    <tr>\n",
       "      <th>f</th>\n",
       "      <td>2</td>\n",
       "      <td>2</td>\n",
       "    </tr>\n",
       "    <tr>\n",
       "      <th>m</th>\n",
       "      <td>0</td>\n",
       "      <td>2</td>\n",
       "    </tr>\n",
       "  </tbody>\n",
       "</table>\n",
       "</div>"
      ],
      "text/plain": [
       "result  fail  pass\n",
       "gender            \n",
       "f          2     2\n",
       "m          0     2"
      ]
     },
     "execution_count": 28,
     "metadata": {},
     "output_type": "execute_result"
    }
   ],
   "source": [
    "x_df=pd.crosstab(df[\"gender\"],df[\"result\"])\n",
    "x_df"
   ]
  },
  {
   "cell_type": "code",
   "execution_count": 38,
   "id": "ecd429ce-e667-4482-82d4-7f635b9fabf5",
   "metadata": {},
   "outputs": [
    {
     "name": "stdout",
     "output_type": "stream",
     "text": [
      "Value of Chi2 is: 0.09375000000000001\n",
      "Value of p is: 0.7594628653799336\n",
      "Value of dof : 1\n",
      "Value of expectancy [[1.33333333 2.66666667]\n",
      " [0.66666667 1.33333333]]\n",
      "There is association between gender and result(Fail to accept H0)\n"
     ]
    }
   ],
   "source": [
    "from scipy.stats import chi2_contingency\n",
    "chi2,p,dof,expectancy=chi2_contingency(x_df)\n",
    "print(\"Value of Chi2 is:\",chi2)\n",
    "print(\"Value of p is:\",p)\n",
    "print(\"Value of dof :\",dof)\n",
    "print(\"Value of expectancy\",expectancy)\n",
    "if p>0.05:\n",
    "  print(\"There is association between gender and result(Fail to accept H0)\")\n",
    "else:\n",
    "  print(\"There is no association between gender and result(accept H0)\")"
   ]
  },
  {
   "cell_type": "code",
   "execution_count": null,
   "id": "22522143-df3e-4147-81cf-a77fc3bc7a76",
   "metadata": {},
   "outputs": [],
   "source": []
  }
 ],
 "metadata": {
  "kernelspec": {
   "display_name": "Python 3 (ipykernel)",
   "language": "python",
   "name": "python3"
  },
  "language_info": {
   "codemirror_mode": {
    "name": "ipython",
    "version": 3
   },
   "file_extension": ".py",
   "mimetype": "text/x-python",
   "name": "python",
   "nbconvert_exporter": "python",
   "pygments_lexer": "ipython3",
   "version": "3.12.4"
  }
 },
 "nbformat": 4,
 "nbformat_minor": 5
}
