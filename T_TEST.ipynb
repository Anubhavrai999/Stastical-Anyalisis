{
 "cells": [
  {
   "cell_type": "markdown",
   "id": "af14be91-ca3b-4113-bcbf-876187797ad7",
   "metadata": {},
   "source": [
    "# 1st sample test"
   ]
  },
  {
   "cell_type": "code",
   "execution_count": 1,
   "id": "ca1efc97-ad05-4392-b286-2e795db542ae",
   "metadata": {},
   "outputs": [
    {
     "name": "stdout",
     "output_type": "stream",
     "text": [
      "[1, 2, 3, 4, 5, 6, 7, 8, 9, 102, 112, 125, 133, 140, 153, 16, 17, 18, 19, 20]\n"
     ]
    }
   ],
   "source": [
    "x=[1,2,3,4,5,6,7,8,9,102,112,125,133,140,153,16,17,18,19,20]\n",
    "print(x)"
   ]
  },
  {
   "cell_type": "code",
   "execution_count": 9,
   "id": "134a8ad4-f97a-4b3f-8ebe-15e91cccc176",
   "metadata": {},
   "outputs": [],
   "source": [
    "assumed_mean = 100\n",
    "from scipy.stats import ttest_1samp"
   ]
  },
  {
   "cell_type": "code",
   "execution_count": 11,
   "id": "41386b31-9ebd-4f31-b4f3-5b04e71672c6",
   "metadata": {},
   "outputs": [
    {
     "name": "stdout",
     "output_type": "stream",
     "text": [
      "100\n",
      "-4.352213897649728\n",
      "0.00034306208545808504\n",
      "Reject H0: Mera asssumed mean shi nhi hai\n"
     ]
    }
   ],
   "source": [
    "stat,pvalue=ttest_1samp(x,assumed_mean)\n",
    "print(assumed_mean)\n",
    "print(stat)\n",
    "print(pvalue)\n",
    "if pvalue>0.05:\n",
    "    print(\"Accept H0: Meri assumed mean shi hai \")\n",
    "else:\n",
    "    print(\"Reject H0: Mera asssumed mean shi nhi hai\")"
   ]
  },
  {
   "cell_type": "markdown",
   "id": "a2d26df1-45c7-4c3b-89ec-159f4a0a00bb",
   "metadata": {},
   "source": [
    "# 2nd sample test(independent)"
   ]
  },
  {
   "cell_type": "code",
   "execution_count": 15,
   "id": "9f19b3c2-c1dc-483e-b4dc-700955bfd372",
   "metadata": {},
   "outputs": [
    {
     "name": "stdout",
     "output_type": "stream",
     "text": [
      "[1, 21, 23, 422, 5, 6, 7, 8, 9, 102, 112, 125, 133, 140, 153, 16, 17, 18, 19, 20]\n"
     ]
    }
   ],
   "source": [
    "data1=[1,21,23,422,5,6,7,8,9,102,112,125,133,140,153,16,17,18,19,20]\n",
    "print(data1)"
   ]
  },
  {
   "cell_type": "code",
   "execution_count": 21,
   "id": "98759462-8ac9-4d26-86e4-cd0187db6b91",
   "metadata": {},
   "outputs": [
    {
     "data": {
      "text/plain": [
       "67.85"
      ]
     },
     "execution_count": 21,
     "metadata": {},
     "output_type": "execute_result"
    }
   ],
   "source": [
    "sum_y=sum(data1)\n",
    "len_y=len(data1)\n",
    "mean_y=sum_y/len_y\n",
    "mean_y"
   ]
  },
  {
   "cell_type": "code",
   "execution_count": 25,
   "id": "d6de0b7a-873a-4108-ba63-a1d160d35969",
   "metadata": {},
   "outputs": [
    {
     "name": "stdout",
     "output_type": "stream",
     "text": [
      "[1, 2, 3, 4, 5, 6, 7, 8, 9, 102, 112, 125, 133, 140, 153, 16, 17, 18, 19, 20]\n"
     ]
    }
   ],
   "source": [
    "data2=[1,2,3,4,5,6,7,8,9,102,112,125,133,140,153,16,17,18,19,20]\n",
    "print(data2)"
   ]
  },
  {
   "cell_type": "code",
   "execution_count": 27,
   "id": "58d677ec-b453-4ede-8f6e-20e823e562eb",
   "metadata": {},
   "outputs": [
    {
     "data": {
      "text/plain": [
       "45.0"
      ]
     },
     "execution_count": 27,
     "metadata": {},
     "output_type": "execute_result"
    }
   ],
   "source": [
    "sum_x=sum(data2)\n",
    "len_x=len(data2)\n",
    "mean_x=sum_x/len_x\n",
    "mean_x"
   ]
  },
  {
   "cell_type": "code",
   "execution_count": 21,
   "id": "88877e73-e0aa-4091-a77c-ca0597e8639e",
   "metadata": {},
   "outputs": [
    {
     "name": "stdout",
     "output_type": "stream",
     "text": [
      "0.8929587331907853\n",
      "0.3774996444870734\n",
      "The mean of both data is different\n"
     ]
    }
   ],
   "source": [
    "from scipy.stats import ttest_ind\n",
    "stat,pvalue=ttest_ind(data1,data2)\n",
    "print(stat)\n",
    "print(pvalue)\n",
    "if pvalue>0.05:\n",
    "    print(\"The mean of both data is different\")\n",
    "else:\n",
    "    print(\"The mean of both the data is same\")"
   ]
  },
  {
   "cell_type": "markdown",
   "id": "edc2b8b7-627a-4aad-8719-6775b92504b6",
   "metadata": {},
   "source": [
    "# Dependent test(relative test)"
   ]
  },
  {
   "cell_type": "code",
   "execution_count": 33,
   "id": "df321d6a-29e9-4ed4-98cf-c05a667481d1",
   "metadata": {},
   "outputs": [
    {
     "name": "stdout",
     "output_type": "stream",
     "text": [
      "0.18356686005527661\n",
      "The data is different\n"
     ]
    }
   ],
   "source": [
    "from scipy.stats import ttest_rel\n",
    "\n",
    "mark1=[20,20,20,16,17]\n",
    "mark2=[20,20,20,20,20]\n",
    "pvalue=ttest_rel(mark1,mark2)\n",
    "print(pvalue[1])\n",
    "if pvalue[1]>0.05:\n",
    "    print(\"The data is different\")\n",
    "else:\n",
    "    print(\"The data is same\")"
   ]
  },
  {
   "cell_type": "code",
   "execution_count": null,
   "id": "59fe2e01-a505-40da-b783-8be654cd3186",
   "metadata": {},
   "outputs": [],
   "source": []
  }
 ],
 "metadata": {
  "kernelspec": {
   "display_name": "Python 3 (ipykernel)",
   "language": "python",
   "name": "python3"
  },
  "language_info": {
   "codemirror_mode": {
    "name": "ipython",
    "version": 3
   },
   "file_extension": ".py",
   "mimetype": "text/x-python",
   "name": "python",
   "nbconvert_exporter": "python",
   "pygments_lexer": "ipython3",
   "version": "3.12.4"
  }
 },
 "nbformat": 4,
 "nbformat_minor": 5
}
